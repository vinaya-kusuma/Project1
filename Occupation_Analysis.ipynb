{
 "cells": [
  {
   "cell_type": "code",
   "execution_count": 1,
   "id": "64e7220d",
   "metadata": {},
   "outputs": [],
   "source": [
    "#magic command to display matplotlib plots \n",
    "%matplotlib inline"
   ]
  },
  {
   "cell_type": "code",
   "execution_count": 2,
   "id": "f76b20a3",
   "metadata": {},
   "outputs": [
    {
     "ename": "ModuleNotFoundError",
     "evalue": "No module named 'api_keys'",
     "output_type": "error",
     "traceback": [
      "\u001b[0;31m---------------------------------------------------------------------------\u001b[0m",
      "\u001b[0;31mModuleNotFoundError\u001b[0m                       Traceback (most recent call last)",
      "Cell \u001b[0;32mIn[2], line 8\u001b[0m\n\u001b[1;32m      5\u001b[0m \u001b[38;5;28;01mimport\u001b[39;00m \u001b[38;5;21;01mjson\u001b[39;00m\n\u001b[1;32m      7\u001b[0m \u001b[38;5;66;03m# Import the BLS Data API key\u001b[39;00m\n\u001b[0;32m----> 8\u001b[0m \u001b[38;5;28;01mfrom\u001b[39;00m \u001b[38;5;21;01mapi_keys\u001b[39;00m \u001b[38;5;28;01mimport\u001b[39;00m api_key\n\u001b[1;32m      9\u001b[0m \u001b[38;5;28;01mimport\u001b[39;00m \u001b[38;5;21;01mmatplotlib\u001b[39;00m\u001b[38;5;21;01m.\u001b[39;00m\u001b[38;5;21;01mpyplot\u001b[39;00m \u001b[38;5;28;01mas\u001b[39;00m \u001b[38;5;21;01mplt\u001b[39;00m\n\u001b[1;32m     10\u001b[0m \u001b[38;5;28;01mfrom\u001b[39;00m \u001b[38;5;21;01mpathlib\u001b[39;00m \u001b[38;5;28;01mimport\u001b[39;00m Path\n",
      "\u001b[0;31mModuleNotFoundError\u001b[0m: No module named 'api_keys'"
     ]
    }
   ],
   "source": [
    "# Dependencies\n",
    "import pandas as pd\n",
    "import numpy as np\n",
    "import requests\n",
    "import json\n",
    "\n",
    "# Import the BLS Data API key\n",
    "from api_keys import api_key\n",
    "import matplotlib.pyplot as plt\n",
    "from pathlib import Path"
   ]
  },
  {
   "cell_type": "code",
   "execution_count": null,
   "id": "928e73e2",
   "metadata": {},
   "outputs": [],
   "source": [
    "# Store file paths in a variable\n",
    "occupation_data_file = Path(\"Resources/national_M2022_dl.xlsx\")\n",
    "employment_data_file = Path(\"Resources/occupation.xlsx\")\n",
    "automation_file = Path(\"Resources/automation_data_by_state.csv\")\n",
    "occupation_gender_file = Path(\"Resources/cpsaat11.xlsx\")"
   ]
  },
  {
   "cell_type": "code",
   "execution_count": null,
   "id": "0d30a1c1",
   "metadata": {},
   "outputs": [],
   "source": [
    "# Read the files into dataframes\n",
    "occupation_group_data = pd.read_excel(occupation_data_file)\n",
    "employment_data_df = pd.read_excel(employment_data_file, sheet_name =\"Table 1.7\",header=1)\n",
    "factors_utilization= pd.read_excel(employment_data_file, sheet_name =\"Table 1.12\",header=1)\n",
    "automation_data = pd.read_csv(automation_file, encoding=\"ISO-8859-1\")\n",
    "occupation_gender_df = pd.read_excel(occupation_gender_file,header=None)"
   ]
  },
  {
   "cell_type": "code",
   "execution_count": null,
   "id": "529d0b43",
   "metadata": {},
   "outputs": [],
   "source": [
    "# Sample data of occupation_group_data dataframe\n",
    "occupation_group_data.sample(5)"
   ]
  },
  {
   "cell_type": "code",
   "execution_count": null,
   "id": "f51aa94c",
   "metadata": {},
   "outputs": [],
   "source": [
    "# Columns\n",
    "occupation_group_data.columns"
   ]
  },
  {
   "cell_type": "code",
   "execution_count": null,
   "id": "bbd14328",
   "metadata": {},
   "outputs": [],
   "source": [
    "# Select the requred columns-'OCC_CODE', 'OCC_TITLE', 'O_GROUP'\n",
    "occupation_group_data = occupation_group_data[['OCC_CODE', 'OCC_TITLE', 'O_GROUP']]"
   ]
  },
  {
   "cell_type": "code",
   "execution_count": null,
   "id": "2ae1a17b",
   "metadata": {},
   "outputs": [],
   "source": [
    "# Rename the columns\n",
    "occupation_group_data.rename(columns={'OCC_CODE':\"2022 National Employment Matrix code\",'OCC_TITLE' : \"2022 National Employment Matrix title\",'O_GROUP':\"Occupation Group\" },inplace=True)\n"
   ]
  },
  {
   "cell_type": "code",
   "execution_count": null,
   "id": "0c31d0f5",
   "metadata": {},
   "outputs": [],
   "source": [
    "# Count of each column items\n",
    "occupation_group_data.count()"
   ]
  },
  {
   "cell_type": "code",
   "execution_count": null,
   "id": "6b7420db",
   "metadata": {},
   "outputs": [],
   "source": [
    "# Check for duplicate records\n",
    "occupation_group_data.duplicated().sample(5)"
   ]
  },
  {
   "cell_type": "code",
   "execution_count": null,
   "id": "a57827c3",
   "metadata": {},
   "outputs": [],
   "source": [
    "# Reset the index of employment_data_df dataframe\n",
    "employment_data_df.reset_index()\n",
    "employment_data_df.head()"
   ]
  },
  {
   "cell_type": "code",
   "execution_count": null,
   "id": "4e6311df",
   "metadata": {},
   "outputs": [],
   "source": [
    "# Display the columns\n",
    "employment_data_df.columns"
   ]
  },
  {
   "cell_type": "code",
   "execution_count": null,
   "id": "009a294f",
   "metadata": {},
   "outputs": [],
   "source": [
    "# Count of each column items\n",
    "employment_data_df.count()"
   ]
  },
  {
   "cell_type": "code",
   "execution_count": null,
   "id": "e563ae54",
   "metadata": {},
   "outputs": [],
   "source": [
    "# Remove the footer in the last 4 lines\n",
    "employment_data_df = employment_data_df.drop(employment_data_df.index[-4:], axis=0)\n",
    "employment_data_df.tail()"
   ]
  },
  {
   "cell_type": "code",
   "execution_count": null,
   "id": "122701ef",
   "metadata": {},
   "outputs": [],
   "source": [
    "# Count of each column items\n",
    "employment_data_df.count()"
   ]
  },
  {
   "cell_type": "code",
   "execution_count": null,
   "id": "0dbbb650",
   "metadata": {},
   "outputs": [],
   "source": [
    "# Select the required columns - 2022 National Employment Matrix occupation code ,Factors affecting occupational utilization\n",
    "factors_utilization =  factors_utilization[['2022 National Employment Matrix occupation code','Factors affecting occupational utilization']]"
   ]
  },
  {
   "cell_type": "code",
   "execution_count": null,
   "id": "f07c6e47",
   "metadata": {
    "scrolled": true
   },
   "outputs": [],
   "source": [
    "factors_utilization.head()\n"
   ]
  },
  {
   "cell_type": "code",
   "execution_count": null,
   "id": "1cb9281f",
   "metadata": {},
   "outputs": [],
   "source": [
    "# Rename Columns\n",
    "factors_utilization.rename(columns={'2022 National Employment Matrix occupation code':'2022 National Employment Matrix code'},inplace = True)"
   ]
  },
  {
   "cell_type": "code",
   "execution_count": null,
   "id": "0386575b",
   "metadata": {},
   "outputs": [],
   "source": [
    "# Remove duplicate records\n",
    "factors_utilization = factors_utilization.drop_duplicates(subset='2022 National Employment Matrix code', keep='first')"
   ]
  },
  {
   "cell_type": "code",
   "execution_count": null,
   "id": "68c2ab4e",
   "metadata": {},
   "outputs": [],
   "source": [
    "# Merge the dataframes\n",
    "employment_details = pd.merge(employment_data_df,factors_utilization,on ='2022 National Employment Matrix code',how=\"left\")"
   ]
  },
  {
   "cell_type": "code",
   "execution_count": null,
   "id": "ad7ccb9d",
   "metadata": {},
   "outputs": [],
   "source": [
    "# Remove the duplicate records\n",
    "employment_details = employment_details.drop_duplicates(subset=\"2022 National Employment Matrix code\",keep='last')"
   ]
  },
  {
   "cell_type": "code",
   "execution_count": null,
   "id": "577f73f7",
   "metadata": {},
   "outputs": [],
   "source": [
    "# Count\n",
    "employment_details.count()"
   ]
  },
  {
   "cell_type": "code",
   "execution_count": null,
   "id": "e20e0056",
   "metadata": {},
   "outputs": [],
   "source": [
    "# merge the occupation_group_data and employment_data_df dataframes\n",
    "employment_wage_education = pd.merge(occupation_group_data,employment_details,on= [\"2022 National Employment Matrix code\",\"2022 National Employment Matrix code\"])\n",
    "employment_wage_education.head()"
   ]
  },
  {
   "cell_type": "code",
   "execution_count": null,
   "id": "69b4f03a",
   "metadata": {},
   "outputs": [],
   "source": [
    "employment_wage_education.count()"
   ]
  },
  {
   "cell_type": "code",
   "execution_count": null,
   "id": "04eeafee",
   "metadata": {},
   "outputs": [],
   "source": [
    "# Drop the 2022 National Employment Matrix title_y column\n",
    "employment_wage_education = employment_wage_education.drop(\"2022 National Employment Matrix title_y\",axis=1)\n",
    "\n",
    "# Rename the column 2022 National Employment Matrix title_x to 2022 National Employment Matrix title\n",
    "employment_wage_education.rename(columns={\"2022 National Employment Matrix title_x\":\"2022 National Employment Matrix title\"},inplace = True)"
   ]
  },
  {
   "cell_type": "code",
   "execution_count": null,
   "id": "74e94e30",
   "metadata": {},
   "outputs": [],
   "source": [
    "# Count\n",
    "employment_wage_education.count()"
   ]
  },
  {
   "cell_type": "code",
   "execution_count": null,
   "id": "fdeef1d0",
   "metadata": {},
   "outputs": [],
   "source": [
    "# Display some sample data of automation_data dataframe\n",
    "automation_data.sample(5)"
   ]
  },
  {
   "cell_type": "code",
   "execution_count": null,
   "id": "2c08d968",
   "metadata": {},
   "outputs": [],
   "source": [
    "# Rename the columns \"SOC\" to \"2022 National Employment Matrix code\" and \"Probability\" to \"Automation Probability\"\n",
    "automation_data.rename(columns={\"SOC\":\"2022 National Employment Matrix code\",\"Probability\":\"Automation Probability\"},inplace =True) "
   ]
  },
  {
   "cell_type": "code",
   "execution_count": null,
   "id": "3dc92f3b",
   "metadata": {},
   "outputs": [],
   "source": [
    "automation_data = automation_data[[\"2022 National Employment Matrix code\",\"Automation Probability\"]]"
   ]
  },
  {
   "cell_type": "code",
   "execution_count": null,
   "id": "750605f6",
   "metadata": {},
   "outputs": [],
   "source": [
    "# Merge the employment_wage_education and automation_data dataframes\n",
    "occupation_automation_df = pd.merge(employment_wage_education,automation_data,how=\"left\",on=[\"2022 National Employment Matrix code\",\"2022 National Employment Matrix code\"])\n",
    "occupation_automation_df.head()"
   ]
  },
  {
   "cell_type": "code",
   "execution_count": null,
   "id": "97dfd5d2",
   "metadata": {},
   "outputs": [],
   "source": [
    "# Display the count of column items\n",
    "occupation_automation_df.count()"
   ]
  },
  {
   "cell_type": "code",
   "execution_count": null,
   "id": "f0563ea6",
   "metadata": {},
   "outputs": [],
   "source": [
    "# sample data of occupation_gender_df dataframe\n",
    "occupation_gender_df.reset_index()\n",
    "\n",
    "occupation_gender_df.head()"
   ]
  },
  {
   "cell_type": "code",
   "execution_count": null,
   "id": "b1a7dee1",
   "metadata": {},
   "outputs": [],
   "source": [
    "# Exculde the header rows\n",
    "occupation_gender_df = occupation_gender_df.iloc[9:]"
   ]
  },
  {
   "cell_type": "code",
   "execution_count": null,
   "id": "b59c29cb",
   "metadata": {},
   "outputs": [],
   "source": [
    "# Name columns\n",
    "occupation_gender_df.columns = [\"2022 National Employment Matrix code\",\"2022 National Employment Matrix title\",\"Total employed\", \"Women\",\"White\",\"Black or African American\",\"Asian\",\"Hispanic or Latino\"]"
   ]
  },
  {
   "cell_type": "code",
   "execution_count": null,
   "id": "9b665dbc",
   "metadata": {},
   "outputs": [],
   "source": [
    "# Merge occupation_automation_df,occupation_gender_df dataframes\n",
    "occupation_data_complete = pd.merge(occupation_automation_df,occupation_gender_df,how = \"left\",on=\"2022 National Employment Matrix code\")\n"
   ]
  },
  {
   "cell_type": "code",
   "execution_count": null,
   "id": "1deb261d",
   "metadata": {},
   "outputs": [],
   "source": [
    "occupation_data_complete.columns"
   ]
  },
  {
   "cell_type": "code",
   "execution_count": null,
   "id": "ad2dea60",
   "metadata": {},
   "outputs": [],
   "source": [
    "# Drop the 2022 National Employment Matrix title_y column\n",
    "occupation_data_complete = occupation_data_complete.drop(\"2022 National Employment Matrix title_y\",axis=1)\n",
    "\n",
    "# Rename the column 2022 National Employment Matrix title_x to 2022 National Employment Matrix title\n",
    "occupation_data_complete.rename(columns={\"2022 National Employment Matrix title_x\":\"2022 National Employment Matrix title\"},inplace = True)"
   ]
  },
  {
   "cell_type": "code",
   "execution_count": null,
   "id": "e4117bec",
   "metadata": {},
   "outputs": [],
   "source": [
    "occupation_data_complete[\"Median annual wage, 2022(1)\"]=pd.to_numeric(occupation_data_complete[\"Median annual wage, 2022(1)\"])"
   ]
  },
  {
   "cell_type": "code",
   "execution_count": null,
   "id": "9fb7c0a4",
   "metadata": {},
   "outputs": [],
   "source": [
    "occupation_data_complete.head()"
   ]
  },
  {
   "cell_type": "code",
   "execution_count": null,
   "id": "ca98369f",
   "metadata": {},
   "outputs": [],
   "source": [
    "# Export file as a CSV, without the Pandas index, but with the header\n",
    "occupation_data_complete.to_csv(\"Resources/Occupation_complete.csv\", index=False, header=True)"
   ]
  },
  {
   "cell_type": "code",
   "execution_count": null,
   "id": "afc1cd69",
   "metadata": {},
   "outputs": [],
   "source": [
    "# Create a dataframe for all the major sectors\n",
    "major_sectors_df= occupation_data_complete.loc[occupation_data_complete['Occupation Group'] == \"major\" ]\n",
    "major_sectors_df.count()"
   ]
  },
  {
   "cell_type": "code",
   "execution_count": null,
   "id": "47252c2c",
   "metadata": {},
   "outputs": [],
   "source": []
  },
  {
   "cell_type": "code",
   "execution_count": null,
   "id": "27c8ff89",
   "metadata": {},
   "outputs": [],
   "source": [
    "Employment_distribution_df =major_sectors_df[[\"2022 National Employment Matrix title\",'Employment, 2022','Employment, 2032']]\n",
    "\n",
    "Employment_distribution_df[\"2022 National Employment Matrix title\"] = Employment_distribution_df[\"2022 National Employment Matrix title\"].str.replace(\"Occupations\",\"\")\n",
    "Employment_distribution_df = Employment_distribution_df.set_index(\"2022 National Employment Matrix title\")\n",
    "Employment_distribution_df"
   ]
  },
  {
   "cell_type": "code",
   "execution_count": null,
   "id": "0bf5222f",
   "metadata": {
    "scrolled": true
   },
   "outputs": [],
   "source": [
    "# Plot the employments across the job groups\n",
    "ax =Employment_distribution_df.plot(kind=\"bar\",xlabel='Major Employment Sectors',ylabel = \"Employment (Numbers in thousands)\",figsize=(8,5))\n",
    "# Save the figure\n",
    "plt.savefig(\"Outputs/Employment_Distribution.png\")\n"
   ]
  },
  {
   "cell_type": "code",
   "execution_count": null,
   "id": "058aecf0",
   "metadata": {},
   "outputs": [],
   "source": [
    "# Major job groups\n",
    "major_sectors_selected = major_sectors_df[[\"2022 National Employment Matrix title\",\"Employment change, percent, 2022-32\"]]\n",
    "major_sectors_selected=major_sectors_selected.sort_values(\"Employment change, percent, 2022-32\",ascending = False)\n",
    "major_sectors_selected[\"2022 National Employment Matrix title\"] = major_sectors_selected[\"2022 National Employment Matrix title\"].str.replace(\"Occupations\",\"\") \n",
    "top_occ_groups=major_sectors_selected.head(6)\n",
    "top_occ_groups\n",
    "\n",
    "top_occ_list = top_occ_groups[\"2022 National Employment Matrix title\"].to_list()\n",
    "top_occ_values = top_occ_groups[\"Employment change, percent, 2022-32\"].to_list()\n"
   ]
  },
  {
   "cell_type": "code",
   "execution_count": null,
   "id": "9668392b",
   "metadata": {},
   "outputs": [],
   "source": [
    "major_sectors_selected"
   ]
  },
  {
   "cell_type": "code",
   "execution_count": null,
   "id": "164d1a86",
   "metadata": {},
   "outputs": [],
   "source": [
    "bottom_occ_groups = major_sectors_selected.loc[major_sectors_selected[\"Employment change, percent, 2022-32\"]<0]\n",
    "# .sort_values(\"Employment change, percent, 2022-32\")\n",
    "\n",
    "bottom_occ_list = bottom_occ_groups[\"2022 National Employment Matrix title\"].to_list()\n",
    "bottom_occ_values = bottom_occ_groups[\"Employment change, percent, 2022-32\"].to_list()\n"
   ]
  },
  {
   "cell_type": "code",
   "execution_count": null,
   "id": "8669edb1",
   "metadata": {},
   "outputs": [],
   "source": [
    "# Percentage employment Change for all the occupations\n",
    "percentage_change_all = employment_data_df[employment_data_df[\"2022 National Employment Matrix code\"]==\"00-0000\"]"
   ]
  },
  {
   "cell_type": "code",
   "execution_count": null,
   "id": "2a4b0f94",
   "metadata": {},
   "outputs": [],
   "source": [
    "merged_occ_list = top_occ_list + bottom_occ_list\n",
    "merged_values_list = top_occ_values+bottom_occ_values\n"
   ]
  },
  {
   "cell_type": "code",
   "execution_count": null,
   "id": "13e6acf6",
   "metadata": {
    "scrolled": true
   },
   "outputs": [],
   "source": [
    "\n",
    "data = {'Occupational Groups':merged_occ_list,\n",
    "        'Percentage Change': merged_values_list}\n",
    "\n",
    "# Create a sample DataFrame\n",
    "\n",
    "df = pd.DataFrame(data)\n",
    "\n",
    "# Sorting in ascending order based on the 'Age' column\n",
    "df_sorted_ascending = df.sort_values(by='Percentage Change')\n",
    "\n",
    "# Create a horizontal bar plot with negative values in red\n",
    "fig, ax = plt.subplots()\n",
    "colors = ['red' if val < 0 else 'green' for val in df_sorted_ascending['Percentage Change']]\n",
    "bars = ax.barh(df_sorted_ascending['Occupational Groups'], df_sorted_ascending['Percentage Change'], color=colors)\n",
    "\n",
    "# Add labels and title\n",
    "ax.set_xlabel('Employment Percentage Change')\n",
    "ax.set_ylabel('Occupational Groups')\n",
    "ax.set_title('Employment percentage change projected over the next decade')\n",
    "\n",
    "for i, v in enumerate(df_sorted_ascending['Percentage Change'].to_list()):\n",
    "    label = f\"{v}%\"\n",
    "    plt.text(v, i, label, va='center')\n",
    "    \n",
    "v_label = f\"<--Employment change of all occupations {percentage_change_all.iloc[0,6]}%\"\n",
    "ax.axvline(x=percentage_change_all.iloc[0,6], color='yellow', linestyle='--', label=percentage_change_all.iloc[0,6])\n",
    "ax.text(19, 9.5,v_label , rotation=0, ha='right',color=\"blue\")\n",
    "\n",
    "# Save the figure\n",
    "plt.savefig(\"Outputs/Most_affected_OCCGroups.png\")\n",
    "\n",
    "# Show the plot\n",
    "plt.show()"
   ]
  },
  {
   "cell_type": "code",
   "execution_count": null,
   "id": "b2f4bc7d",
   "metadata": {},
   "outputs": [],
   "source": [
    "# Occupations that are highly impacted by automation\n",
    "occupation_detailed = occupation_data_complete[occupation_data_complete['Occupation Group']==\"detailed\"]\n",
    "occupation_detailed.columns\n",
    "occupation_automation = occupation_detailed[['2022 National Employment Matrix title',\"Automation Probability\"] ]\n",
    "\n",
    "occupation_automation.dropna()\n",
    "occupation_automation_sorted = occupation_automation.sort_values(\"Automation Probability\",ascending=False)\n",
    "occupation_automation_sorted.head()\n"
   ]
  },
  {
   "cell_type": "code",
   "execution_count": null,
   "id": "709a2751",
   "metadata": {},
   "outputs": [],
   "source": [
    "# Fastest growing occupations- employment change percenatge > 18%\n",
    "fastest_growing_occ  =occupation_detailed.loc[occupation_detailed['Employment change, percent, 2022-32'] > 18.0]\n",
    "fastest_growing_occ_df = fastest_growing_occ[[\"2022 National Employment Matrix title\",'Employment change, percent, 2022-32','Employment change, numeric, 2022-32']]\n",
    "fastest_growing_occ_top10 = fastest_growing_occ_df.sort_values('Employment change, percent, 2022-32', ascending=False).head(10)"
   ]
  },
  {
   "cell_type": "code",
   "execution_count": null,
   "id": "d6f439ed",
   "metadata": {},
   "outputs": [],
   "source": [
    "\n",
    "# Create a horizontal bar plot with negative values in red\n",
    "fastest_growing_occ_top10 = fastest_growing_occ_top10.sort_values(by='Employment change, percent, 2022-32',ascending = True)\n",
    "\n",
    "plt.barh(fastest_growing_occ_top10[\"2022 National Employment Matrix title\"], fastest_growing_occ_top10['Employment change, percent, 2022-32'], color=\"blue\")\n",
    "\n",
    "for i, v in enumerate(fastest_growing_occ_top10['Employment change, percent, 2022-32'].to_list()):\n",
    "    label = f\"{v}%\"\n",
    "    plt.text(v, i, label, va='center')\n",
    "\n",
    "# Add labels and title\n",
    "\n",
    "plt.xlabel('Projected employment change 2022-32 (in percentage)')\n",
    "plt.ylabel('Occupations')\n",
    "# plt.title('Top 10 Fastest Growing Occupations')\n",
    "\n",
    "# Save the figure\n",
    "plt.savefig(\"Outputs/Fastest_Growing_Occ_Percentage.png\")\n",
    "\n",
    "# Show the plot\n",
    "plt.show()\n"
   ]
  },
  {
   "cell_type": "code",
   "execution_count": null,
   "id": "e014d514",
   "metadata": {},
   "outputs": [],
   "source": [
    "fastest_growing_occ_top10"
   ]
  },
  {
   "cell_type": "code",
   "execution_count": null,
   "id": "ecdbc051",
   "metadata": {},
   "outputs": [],
   "source": [
    "\n",
    "fastest_growing_occ_top10_new = fastest_growing_occ_top10.sort_values(by='Employment change, percent, 2022-32',ascending = True)\n",
    "\n",
    "plt.barh(fastest_growing_occ_top10_new[\"2022 National Employment Matrix title\"], fastest_growing_occ_top10_new['Employment change, numeric, 2022-32'], color=\"green\")\n",
    "\n",
    "for i, v in enumerate(fastest_growing_occ_top10_new['Employment change, numeric, 2022-32'].to_list()):\n",
    "    label = f\"{v}\"\n",
    "    plt.text(v, i, label, va='center')\n",
    "\n",
    "# Add labels and title\n",
    "\n",
    "plt.xlabel('Projected employment change 2022-32 (in thousands)')\n",
    "plt.ylabel('Occupations')\n",
    "# plt.title('Top 10 Fastest Growing Occupations')\n",
    "\n",
    "# Save the figure\n",
    "plt.savefig(\"Outputs/Fastest_Growing_Occ_Numeric.png\")\n",
    "\n",
    "\n",
    "# Show the plot\n",
    "plt.show()"
   ]
  },
  {
   "cell_type": "code",
   "execution_count": null,
   "id": "7cd09406",
   "metadata": {},
   "outputs": [],
   "source": [
    "# Fastest growing occupations\n",
    "fastest_growing_occ_num = fastest_growing_occ[[\"2022 National Employment Matrix title\",'Employment change, numeric, 2022-32','Employment change, percent, 2022-32']]"
   ]
  },
  {
   "cell_type": "code",
   "execution_count": null,
   "id": "fd9f20f7",
   "metadata": {},
   "outputs": [],
   "source": [
    "fastest_growing_occ_num"
   ]
  },
  {
   "cell_type": "code",
   "execution_count": null,
   "id": "1fd1efea",
   "metadata": {},
   "outputs": [],
   "source": [
    "# Fastest declining occupations- employment change percenatge < 0%\n",
    "fastest_declining_occ  =occupation_detailed.loc[occupation_detailed['Employment change, percent, 2022-32'] < 0.0]\n",
    "fastest_declining_occ = fastest_declining_occ[[\"2022 National Employment Matrix title\",'Employment change, percent, 2022-32']]\n",
    "fastest_declining_occ.sort_values('Employment change, percent, 2022-32', ascending=True).head(15)"
   ]
  },
  {
   "cell_type": "code",
   "execution_count": null,
   "id": "e44feac6",
   "metadata": {},
   "outputs": [],
   "source": [
    "# base url of BLS Data API\n",
    "base_url = \"https://api.bls.gov/publicAPI/v2/\"\n",
    "# Series Id for job openings in Health care and social assistance\n",
    "series_id = \"JTU620000000000000JOL\"\n",
    "\n",
    "#url\n",
    "url = f\"{base_url}timeseries/data/{series_id}\"\n",
    "params = {\n",
    "    \"startyear\": 2010,\n",
    "    \"endyear\": 2022,\n",
    "    \"registrationkey\": api_key\n",
    "}\n",
    "\n",
    "#run a request using our params dictionary\n",
    "openings_response = requests.get(url, params=params)\n",
    "# convert response to json\n",
    "openings_response_json = openings_response.json()\n",
    "\n",
    "# Print the json\n",
    "print(json.dumps(openings_response_json ,indent=4, sort_keys=True))\n"
   ]
  },
  {
   "cell_type": "code",
   "execution_count": null,
   "id": "f392e607",
   "metadata": {},
   "outputs": [],
   "source": [
    "#store the year and openings data in lists\n",
    "year_list=[]\n",
    "data1 = []\n",
    "# Loop through and parse the JSON to retrieve the job openings data for each year\n",
    "for i in range(9):\n",
    "    year_list.append(openings_response_json[\"Results\"][\"series\"][0][\"data\"][12*i]['year'])\n",
    "    data1.append(openings_response_json[\"Results\"][\"series\"][0][\"data\"][12*i]['value'])\n",
    "\n",
    "# Reverse the list to get the data for years in ascending order \n",
    "years = year_list[::-1]\n",
    "openings = data1[::-1]\n",
    "\n",
    "print(years)\n",
    "print(openings)"
   ]
  },
  {
   "cell_type": "code",
   "execution_count": null,
   "id": "ec019f08",
   "metadata": {},
   "outputs": [],
   "source": [
    "# Series Id for jobs hired in Health care and social assistance\n",
    "series_id = \"JTU620000000000000HIL\"\n",
    "\n",
    "#url\n",
    "url = f\"{base_url}timeseries/data/{series_id}\"\n",
    "\n",
    "#run the request using our params dictionary\n",
    "hired_response = requests.get(url, params=params)\n",
    "\n",
    "# convert response to json\n",
    "hired_response_json = hired_response.json()\n",
    "\n",
    "# Print the json\n",
    "print(json.dumps(hired_response_json ,indent=4, sort_keys=True))"
   ]
  },
  {
   "cell_type": "code",
   "execution_count": null,
   "id": "67851699",
   "metadata": {},
   "outputs": [],
   "source": [
    "data2 = []\n",
    "# Loop through and parse the JSON to retrieve the jobs hired data for each year\n",
    "for i in range(9):\n",
    "    year_list.append(hired_response_json[\"Results\"][\"series\"][0][\"data\"][12*i]['year'])\n",
    "    data2.append(hired_response_json[\"Results\"][\"series\"][0][\"data\"][12*i]['value'])\n",
    "    \n",
    "# Reverse the list to get the data in increasing order of years\n",
    "hired = data2[::-1]\n",
    "\n",
    "# print years and jobs hired data\n",
    "print(years)\n",
    "print(hired)"
   ]
  },
  {
   "cell_type": "code",
   "execution_count": null,
   "id": "db0c6f8a",
   "metadata": {},
   "outputs": [],
   "source": [
    "# Series Id for for total separation\n",
    "series_id = \"JTU620000000000000TSL\"\n",
    "\n",
    "#url\n",
    "url = f\"{base_url}timeseries/data/{series_id}\"\n",
    "\n",
    "#run the request using our params dictionary\n",
    "unemployed_rate_response = requests.get(url, params=params)\n",
    "# convert response to json\n",
    "unemployed_rate_json = unemployed_rate_response.json()\n",
    "\n",
    "# Print the json\n",
    "print(json.dumps(unemployed_rate_json ,indent=4, sort_keys=True))"
   ]
  },
  {
   "cell_type": "code",
   "execution_count": null,
   "id": "c26f743a",
   "metadata": {},
   "outputs": [],
   "source": [
    "year_list=[]\n",
    "data3 = []\n",
    "# Loop through the \n",
    "for i in range(9):\n",
    "    year_list.append(unemployed_rate_json[\"Results\"][\"series\"][0][\"data\"][12*i]['year'])\n",
    "    data3.append(unemployed_rate_json[\"Results\"][\"series\"][0][\"data\"][12*i]['value'])\n",
    "\n",
    "separations = data3[::-1]\n",
    "print(years)\n",
    "print(separations)"
   ]
  },
  {
   "cell_type": "code",
   "execution_count": null,
   "id": "c419a108",
   "metadata": {},
   "outputs": [],
   "source": [
    "data = {\n",
    "    'Date': years,\n",
    "    'Job Openings': openings,\n",
    "    'Jobs Hired': hired,\n",
    "    'Total Separations':separations\n",
    "}\n",
    "\n",
    "df = pd.DataFrame(data)\n",
    "df['Job Openings'] = df['Job Openings'].astype(int)\n",
    "df[ 'Jobs Hired'] = df[ 'Jobs Hired'].astype(int)\n",
    "df[ 'Total Separations'] = df[ 'Total Separations'].astype(int)\n",
    "# df.info()\n",
    "df.set_index('Date', inplace=True)\n",
    "df.plot(figsize=(12, 6))\n",
    "plt.title('Healthcare Services Job Trends')\n",
    "plt.xlabel('Years')\n",
    "plt.ylabel('Value in thousands')\n",
    "plt.grid(True)\n",
    "plt.savefig(\"Outputs/Job_Trends_Heathcare.png\")\n",
    "plt.show()\n"
   ]
  },
  {
   "cell_type": "code",
   "execution_count": null,
   "id": "b0f38307",
   "metadata": {},
   "outputs": [],
   "source": [
    "\n",
    "employment_gender = occupation_data_complete[[\"2022 National Employment Matrix title\",\"Women\"]] \n",
    "employment_gender = employment_gender.drop(employment_gender[employment_gender[\"Women\"] == '–'].index)\n",
    "employment_gender = employment_gender.dropna(axis=0)\n",
    "employment_gender = employment_gender.fillna(0)\n",
    "employment_gender[\"Women\"] = employment_gender[\"Women\"].astype(float)\n",
    "employment_gender[\"Men\"] = 100.0 - employment_gender[\"Women\"] \n",
    "\n",
    "top_10 = employment_gender.sort_values(\"Women\",ascending = False).head(10)\n",
    "top_10.set_index(\"2022 National Employment Matrix title\", inplace = True)\n",
    "top_10.plot(kind = \"bar\",figsize=(10,4))\n"
   ]
  },
  {
   "cell_type": "code",
   "execution_count": null,
   "id": "1e105bcd",
   "metadata": {},
   "outputs": [],
   "source": [
    "gender_ratio = employment_gender.loc[employment_gender[\"2022 National Employment Matrix title\"] == \"Management Occupations\"]\n",
    "# Data for the pie chart\n",
    "values = [gender_ratio.iloc[0,1], gender_ratio.iloc[0,2]]\n",
    "labels = [\"Women\", \"Men\"]\n",
    "\n",
    "# Create a pie chart\n",
    "plt.pie(values, labels=labels, autopct='%1.1f%%', startangle=190)\n",
    "plt.axis('equal')  # Equal aspect ratio ensures that the pie chart is circular.\n",
    "\n",
    "# Display the pie chart\n",
    "plt.show()\n"
   ]
  },
  {
   "cell_type": "code",
   "execution_count": null,
   "id": "644e6286",
   "metadata": {},
   "outputs": [],
   "source": [
    "# Analysis for occupation which are impacted by automation.\n",
    "automation_affected_occ = pd.merge(occupation_automation,fastest_declining_occ,on=[\"2022 National Employment Matrix title\",\"2022 National Employment Matrix title\"])\n",
    "high_automation_probabillity_occ=automation_affected_occ.loc[automation_affected_occ['Automation Probability'] > 0.90]\n",
    "high_automation_probabillity_occ_sorted=high_automation_probabillity_occ.sort_values(\"Employment change, percent, 2022-32\",ascending=True)\n",
    "high_automation_probabillity_occ_sorted"
   ]
  },
  {
   "cell_type": "code",
   "execution_count": null,
   "id": "49ea8075",
   "metadata": {},
   "outputs": [],
   "source": []
  }
 ],
 "metadata": {
  "kernelspec": {
   "display_name": "Python 3 (ipykernel)",
   "language": "python",
   "name": "python3"
  },
  "language_info": {
   "codemirror_mode": {
    "name": "ipython",
    "version": 3
   },
   "file_extension": ".py",
   "mimetype": "text/x-python",
   "name": "python",
   "nbconvert_exporter": "python",
   "pygments_lexer": "ipython3",
   "version": "3.11.5"
  }
 },
 "nbformat": 4,
 "nbformat_minor": 5
}
